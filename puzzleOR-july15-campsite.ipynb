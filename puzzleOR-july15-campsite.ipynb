{
 "metadata": {
  "kernelspec": {
   "display_name": "Julia 0.3.9",
   "language": "julia",
   "name": "julia-0.3"
  },
  "language": "Julia",
  "language_info": {
   "name": "julia",
   "version": "0.3.9"
  },
  "name": "",
  "signature": "sha256:69d55c70619f935c4880eed73dbe14c53a3ffde9dfd2b70666fec7176273e346"
 },
 "nbformat": 3,
 "nbformat_minor": 0,
 "worksheets": [
  {
   "cells": [
    {
     "cell_type": "heading",
     "level": 2,
     "metadata": {},
     "source": [
      "This notebook demostrates using JuMP to solve PuzzlOR's July-15 campsite selection problem using linear programming for constraint satisfaction.\n"
     ]
    },
    {
     "cell_type": "code",
     "collapsed": false,
     "input": [
      "using GLPKMathProgInterface # Loading the GLPK module for using its solver\n",
      "using JuMP\n",
      "\n"
     ],
     "language": "python",
     "metadata": {},
     "outputs": [],
     "prompt_number": 1
    },
    {
     "cell_type": "code",
     "collapsed": false,
     "input": [
      "# Define Data\n",
      "\n",
      "\n",
      "Water = [0\t0\t0\t1\t0\t0\t0\t0\t;\n",
      "        0\t0\t0\t0\t0\t0\t0\t0\t;\n",
      "        0\t0\t0\t0\t0\t0\t0\t0\t;\n",
      "        0\t1\t1\t0\t0\t0\t1\t0\t;\n",
      "        0\t0\t0\t1\t0\t0\t0\t0\t;\n",
      "        1\t0\t0\t0\t1\t0\t1\t0\t;\n",
      "        0\t0\t0\t1\t1\t1\t0\t0\t;\n",
      "        0\t0\t0\t0\t0\t0\t0\t0\t]\n",
      "\n",
      "Wood= [0\t0\t0\t0\t0\t0\t0\t1\t;\n",
      "        1\t0\t0\t0\t0\t0\t0\t0\t;\n",
      "        0\t0\t0\t0\t0\t0\t0\t0\t;\n",
      "        0\t0\t0\t0\t1\t0\t0\t0\t;\n",
      "        0\t0\t1\t0\t0\t0\t0\t1\t;\n",
      "        0\t0\t0\t0\t0\t0\t1\t1\t;\n",
      "        0\t0\t0\t0\t0\t0\t0\t0\t;\n",
      "        0\t0\t0\t0\t0\t0\t0\t0\t]\n",
      "\n",
      "Swamp = [0\t0\t0\t0\t0\t0\t1\t0\t;\n",
      "        0\t0\t0\t1\t0\t0\t0\t0\t;\n",
      "        1\t0\t0\t0\t0\t0\t0\t0\t;\n",
      "        1\t0\t1\t0\t0\t0\t0\t0\t;\n",
      "        0\t0\t0\t0\t0\t0\t1\t0\t;\n",
      "        0\t0\t0\t0\t0\t0\t0\t1\t;\n",
      "        0\t0\t0\t1\t0\t1\t0\t0\t;\n",
      "        0\t1\t0\t0\t0\t0\t0\t0\t]\n",
      "\n",
      "\n",
      "Mosquitos = [0\t0\t1\t0\t0\t0\t0\t0;\n",
      "            0\t0\t0\t0\t0\t0\t0\t0;\n",
      "            1\t0\t0\t0\t0\t0\t0\t1;\n",
      "            0\t0\t1\t0\t0\t0\t0\t0;\n",
      "            0\t0\t0\t0\t0\t0\t0\t0;\n",
      "            1\t0\t0\t0\t0\t0\t1\t0;\n",
      "            0\t1\t0\t0\t0\t0\t0\t0;\n",
      "            0\t0\t0\t0\t0\t0\t1\t0]"
     ],
     "language": "python",
     "metadata": {},
     "outputs": [
      {
       "metadata": {},
       "output_type": "pyout",
       "prompt_number": 2,
       "text": [
        "8x8 Array{Int64,2}:\n",
        " 0  0  1  0  0  0  0  0\n",
        " 0  0  0  0  0  0  0  0\n",
        " 1  0  0  0  0  0  0  1\n",
        " 0  0  1  0  0  0  0  0\n",
        " 0  0  0  0  0  0  0  0\n",
        " 1  0  0  0  0  0  1  0\n",
        " 0  1  0  0  0  0  0  0\n",
        " 0  0  0  0  0  0  1  0"
       ]
      }
     ],
     "prompt_number": 2
    },
    {
     "cell_type": "code",
     "collapsed": false,
     "input": [
      "elements = [\"Water\",\"Wood\",\"Swamp\", \"Mosquitos\"]"
     ],
     "language": "python",
     "metadata": {},
     "outputs": [
      {
       "metadata": {},
       "output_type": "pyout",
       "prompt_number": 3,
       "text": [
        "4-element Array{ASCIIString,1}:\n",
        " \"Water\"    \n",
        " \"Wood\"     \n",
        " \"Swamp\"    \n",
        " \"Mosquitos\""
       ]
      }
     ],
     "prompt_number": 3
    },
    {
     "cell_type": "code",
     "collapsed": false,
     "input": [
      "CostAt = [\"Water\"=> 3, \"Wood\"=> 2,  \"Swamp\" => -2 , \"Mosquitos\"=>-3]"
     ],
     "language": "python",
     "metadata": {},
     "outputs": [
      {
       "metadata": {},
       "output_type": "pyout",
       "prompt_number": 4,
       "text": [
        "Dict{ASCIIString,Int64} with 4 entries:\n",
        "  \"Water\"     => 3\n",
        "  \"Swamp\"     => -2\n",
        "  \"Wood\"      => 2\n",
        "  \"Mosquitos\" => -3"
       ]
      }
     ],
     "prompt_number": 4
    },
    {
     "cell_type": "code",
     "collapsed": false,
     "input": [
      "CostNear = [\"Water\"=> 1, \"Wood\"=> 1, \"Swamp\" => -1,\"Mosquitos\"=>-2, ]"
     ],
     "language": "python",
     "metadata": {},
     "outputs": [
      {
       "metadata": {},
       "output_type": "pyout",
       "prompt_number": 7,
       "text": [
        "Dict{ASCIIString,Int64} with 4 entries:\n",
        "  \"Water\"     => 1\n",
        "  \"Swamp\"     => -1\n",
        "  \"Wood\"      => 1\n",
        "  \"Mosquitos\" => -2"
       ]
      }
     ],
     "prompt_number": 7
    },
    {
     "cell_type": "code",
     "collapsed": false,
     "input": [
      "#MODEL CONSTRUCTION\n",
      "#--------------------\n",
      "m = Model(solver=GLPKSolverLP()) \n",
      "\n",
      "\n",
      "#define initial variables\n",
      "@defVar(m, quality[elements,1:8,1:8] )\n",
      "\n",
      "@defVar(m, score[1:8,1:8] )\n"
     ],
     "language": "python",
     "metadata": {},
     "outputs": [
      {
       "latex": [
        "$$ score_{i,j} free \\quad\\forall i \\in \\{1,2,\\dots,7,8\\}, j \\in \\{1,2,\\dots,7,8\\} $$"
       ],
       "metadata": {},
       "output_type": "pyout",
       "prompt_number": 9,
       "text": [
        "score[i,j] free for all i in {1,2..7,8}, j in {1,2..7,8}"
       ]
      }
     ],
     "prompt_number": 9
    },
    {
     "cell_type": "code",
     "collapsed": false,
     "input": [
      "#define quality constraint\n",
      "for i = 1:8\n",
      "    for j = 1:8\n",
      "        for ki in [0,1, -1]\n",
      "            for kj in [0,1,-1]\n",
      "                if i + ki >= 1 && i + ki <= 8 && j + kj >= 1 && j+kj <= 8\n",
      "                    for e in elements\n",
      "                        if kj == 0 && ki == 0\n",
      "                            if e == \"Water\"\n",
      "                                @addConstraint(m, quality[e,i,j] >= Water[i + ki, j + kj] * CostAt[\"Water\"]) \n",
      "                            elseif e == \"Wood\"\n",
      "                                @addConstraint(m, quality[e,i,j] >= Wood[i + ki, j + kj] * CostAt[\"Wood\"])\n",
      "                            elseif e == \"Swamp\"\n",
      "                                @addConstraint(m, quality[e,i,j] <= Swamp[i + ki, j + kj] * CostAt[\"Swamp\"])\n",
      "                            elseif e == \"Mosquitos\"\n",
      "                                @addConstraint(m, quality[e,i,j] <= Mosquitos[i + ki, j + kj] * CostAt[\"Mosquitos\"])\n",
      "                            end\n",
      "                        else\n",
      "                            if e == \"Water\"\n",
      "                                @addConstraint(m, quality[e,i,j] >= Water[i + ki, j + kj] * CostNear[\"Water\"]) \n",
      "                            elseif e == \"Wood\"\n",
      "                                @addConstraint(m, quality[e,i,j] >= Wood[i + ki, j + kj] * CostNear[\"Wood\"])\n",
      "                            elseif e == \"Swamp\"\n",
      "                                @addConstraint(m, quality[e,i,j] <= Swamp[i + ki, j + kj] * CostNear[\"Swamp\"])\n",
      "                            elseif e == \"Mosquitos\"\n",
      "                                @addConstraint(m, quality[e,i,j] <= Mosquitos[i + ki, j + kj] * CostNear[\"Mosquitos\"])\n",
      "                            end\n",
      "                        end\n",
      "                    end\n",
      "                end\n",
      "            end\n",
      "        end\n",
      "    end\n",
      "end\n",
      "\n",
      "\n",
      "    "
     ],
     "language": "python",
     "metadata": {},
     "outputs": [],
     "prompt_number": 11
    },
    {
     "cell_type": "code",
     "collapsed": false,
     "input": [
      "\n",
      "for i in 1:8\n",
      "    for j in 1:8\n",
      "        @addConstraint(m, score[i,j] ==  sum{quality[e,i,j] , e in [\"Water\",\"Wood\"]} \n",
      "                                          -sum{quality[e,i,j] , e in [\"Swamp\",\"Mosquitos\"]}\n",
      "        )\n",
      "\n",
      "    end\n",
      "end\n",
      "        \n",
      "        \n",
      "            "
     ],
     "language": "python",
     "metadata": {},
     "outputs": [],
     "prompt_number": 12
    },
    {
     "cell_type": "code",
     "collapsed": false,
     "input": [
      "#define objective\n",
      "@setObjective(m, Min, sum{score[i,j], i=1:8, j=1:8})"
     ],
     "language": "python",
     "metadata": {},
     "outputs": [
      {
       "latex": [
        "$$ score_{1,1} + score_{1,2} + score_{1,3} + score_{1,4} + score_{1,5} + score_{1,6} + score_{1,7} + score_{1,8} + score_{2,1} + score_{2,2} + score_{2,3} + score_{2,4} + score_{2,5} + score_{2,6} + score_{2,7} + score_{2,8} + score_{3,1} + score_{3,2} + score_{3,3} + score_{3,4} + score_{3,5} + score_{3,6} + score_{3,7} + score_{3,8} + score_{4,1} + score_{4,2} + score_{4,3} + score_{4,4} + score_{4,5} + score_{4,6} + score_{4,7} + score_{4,8} + score_{5,1} + score_{5,2} + score_{5,3} + score_{5,4} + score_{5,5} + score_{5,6} + score_{5,7} + score_{5,8} + score_{6,1} + score_{6,2} + score_{6,3} + score_{6,4} + score_{6,5} + score_{6,6} + score_{6,7} + score_{6,8} + score_{7,1} + score_{7,2} + score_{7,3} + score_{7,4} + score_{7,5} + score_{7,6} + score_{7,7} + score_{7,8} + score_{8,1} + score_{8,2} + score_{8,3} + score_{8,4} + score_{8,5} + score_{8,6} + score_{8,7} + score_{8,8} $$"
       ],
       "metadata": {},
       "output_type": "pyout",
       "prompt_number": 13,
       "text": [
        "score[1,1] + score[1,2] + score[1,3] + score[1,4] + score[1,5] + score[1,6] + score[1,7] + score[1,8] + score[2,1] + score[2,2] + score[2,3] + score[2,4] + score[2,5] + score[2,6] + score[2,7] + score[2,8] + score[3,1] + score[3,2] + score[3,3] + score[3,4] + score[3,5] + score[3,6] + score[3,7] + score[3,8] + score[4,1] + score[4,2] + score[4,3] + score[4,4] + score[4,5] + score[4,6] + score[4,7] + score[4,8] + score[5,1] + score[5,2] + score[5,3] + score[5,4] + score[5,5] + score[5,6] + score[5,7] + score[5,8] + score[6,1] + score[6,2] + score[6,3] + score[6,4] + score[6,5] + score[6,6] + score[6,7] + score[6,8] + score[7,1] + score[7,2] + score[7,3] + score[7,4] + score[7,5] + score[7,6] + score[7,7] + score[7,8] + score[8,1] + score[8,2] + score[8,3] + score[8,4] + score[8,5] + score[8,6] + score[8,7] + score[8,8]"
       ]
      }
     ],
     "prompt_number": 13
    },
    {
     "cell_type": "code",
     "collapsed": false,
     "input": [
      "#print(m)"
     ],
     "language": "python",
     "metadata": {},
     "outputs": [],
     "prompt_number": 14
    },
    {
     "cell_type": "code",
     "collapsed": false,
     "input": [
      "#print(m)\n",
      "\n",
      "status = solve(m)\n",
      "\n"
     ],
     "language": "python",
     "metadata": {},
     "outputs": [
      {
       "metadata": {},
       "output_type": "pyout",
       "prompt_number": 15,
       "text": [
        ":Optimal"
       ]
      }
     ],
     "prompt_number": 15
    },
    {
     "cell_type": "code",
     "collapsed": false,
     "input": [
      "max_x = 1\n",
      "max_y = 1\n",
      "maxval = 0\n",
      "sumquality = zeros(8,8)\n",
      "for i in 1:8\n",
      "    for j in 1:8\n",
      "\n",
      "        for e in elements\n",
      "            sumquality[i,j] += getValue(quality[e,i,j])\n",
      "        end\n",
      "        print(sumquality[i,j])\n",
      "        print(\"\\t\")\n",
      "        if maxval <= sumquality[i,j]\n",
      "            max_x = i\n",
      "            max_y = j\n",
      "            maxval = sumquality[i,j]\n",
      "        end\n",
      "    end\n",
      "    println()\n",
      "end\n",
      "\n",
      "print(\"best campsite is at $(max_x), $(max_y)\")"
     ],
     "language": "python",
     "metadata": {},
     "outputs": [
      {
       "output_type": "stream",
       "stream": "stdout",
       "text": [
        "1.0"
       ]
      },
      {
       "output_type": "stream",
       "stream": "stdout",
       "text": [
        "\t-1.0\t-3.0\t0.0\t0.0\t-1.0\t-1.0\t1.0\t\n",
        "-1.0\t-2.0\t-2.0\t-3.0\t0.0\t-1.0\t-2.0\t-2.0\t\n",
        "-3.0\t-1.0\t-2.0\t-1.0\t0.0\t2.0\t-1.0\t-2.0\t\n",
        "-3.0\t1.0\t-1.0\t-1.0\t3.0\t1.0\t1.0\t-1.0\t\n",
        "-2.0\t-1.0\t0.0\t1.0\t2.0\t-1.0\t-2.0\t0.0\t\n",
        "0.0\t0.0\t-1.0\t1.0\t2.0\t-1.0\t1.0\t-1.0\t\n",
        "-2.0\t-3.0\t-2.0\t1.0\t2.0\t0.0\t-1.0\t-1.0\t\n",
        "-3.0\t-4.0\t-2.0\t0.0\t0.0\t-2.0\t-3.0\t-2.0\t\n",
        "best campsite is at 4, 5"
       ]
      }
     ],
     "prompt_number": 16
    },
    {
     "cell_type": "code",
     "collapsed": true,
     "input": [],
     "language": "python",
     "metadata": {},
     "outputs": [],
     "prompt_number": 27
    },
    {
     "cell_type": "code",
     "collapsed": true,
     "input": [],
     "language": "python",
     "metadata": {},
     "outputs": [],
     "prompt_number": null
    }
   ],
   "metadata": {}
  }
 ]
}