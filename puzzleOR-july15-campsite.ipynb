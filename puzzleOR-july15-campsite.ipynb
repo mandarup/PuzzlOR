{
 "cells": [
  {
   "cell_type": "code",
   "execution_count": 1,
   "metadata": {
    "collapsed": false
   },
   "outputs": [],
   "source": [
    "using GLPK\n",
    "using GLPKMathProgInterface # Loading the GLPK module for using its solver\n",
    "using JuMP\n",
    "\n"
   ]
  },
  {
   "cell_type": "code",
   "execution_count": 2,
   "metadata": {
    "collapsed": false
   },
   "outputs": [
    {
     "data": {
      "text/plain": [
       "8x8 Array{Int64,2}:\n",
       " 0  0  0  0  0  0  1  0\n",
       " 0  0  0  1  0  0  0  0\n",
       " 1  0  0  0  0  0  0  0\n",
       " 1  0  1  0  0  0  0  0\n",
       " 0  0  0  0  0  0  1  0\n",
       " 0  0  0  0  0  0  0  1\n",
       " 0  0  0  1  0  1  0  0\n",
       " 0  1  0  0  0  0  0  0"
      ]
     },
     "execution_count": 2,
     "metadata": {},
     "output_type": "execute_result"
    }
   ],
   "source": [
    "Mosquitos = [0\t0\t1\t0\t0\t0\t0\t0;\n",
    "            0\t0\t0\t0\t0\t0\t0\t0;\n",
    "            1\t0\t0\t0\t0\t0\t0\t1;\n",
    "            0\t0\t1\t0\t0\t0\t0\t0;\n",
    "            0\t0\t0\t0\t0\t0\t0\t0;\n",
    "            1\t0\t0\t0\t0\t0\t1\t0;\n",
    "            0\t1\t0\t0\t0\t0\t0\t0;\n",
    "            0\t0\t0\t0\t0\t0\t1\t0]\n",
    "Water = [0\t0\t0\t1\t0\t0\t0\t0\t;\n",
    "        0\t0\t0\t0\t0\t0\t0\t0\t;\n",
    "        0\t0\t0\t0\t0\t0\t0\t0\t;\n",
    "        0\t1\t1\t0\t0\t0\t1\t0\t;\n",
    "        0\t0\t0\t1\t0\t0\t0\t0\t;\n",
    "        1\t0\t0\t0\t1\t0\t1\t0\t;\n",
    "        0\t0\t0\t1\t1\t1\t0\t0\t;\n",
    "        0\t0\t0\t0\t0\t0\t0\t0\t]\n",
    "\n",
    "Wood= [0\t0\t0\t0\t0\t0\t0\t1\t;\n",
    "        1\t0\t0\t0\t0\t0\t0\t0\t;\n",
    "        0\t0\t0\t0\t0\t0\t0\t0\t;\n",
    "        0\t0\t0\t0\t1\t0\t0\t0\t;\n",
    "        0\t0\t1\t0\t0\t0\t0\t1\t;\n",
    "        0\t0\t0\t0\t0\t0\t1\t1\t;\n",
    "        0\t0\t0\t0\t0\t0\t0\t0\t;\n",
    "        0\t0\t0\t0\t0\t0\t0\t0\t]\n",
    "\n",
    "Swamp = [0\t0\t0\t0\t0\t0\t1\t0\t;\n",
    "        0\t0\t0\t1\t0\t0\t0\t0\t;\n",
    "        1\t0\t0\t0\t0\t0\t0\t0\t;\n",
    "        1\t0\t1\t0\t0\t0\t0\t0\t;\n",
    "        0\t0\t0\t0\t0\t0\t1\t0\t;\n",
    "        0\t0\t0\t0\t0\t0\t0\t1\t;\n",
    "        0\t0\t0\t1\t0\t1\t0\t0\t;\n",
    "        0\t1\t0\t0\t0\t0\t0\t0\t]"
   ]
  },
  {
   "cell_type": "code",
   "execution_count": 3,
   "metadata": {
    "collapsed": false
   },
   "outputs": [
    {
     "data": {
      "text/plain": [
       "4-element Array{ASCIIString,1}:\n",
       " \"Water\"    \n",
       " \"Wood\"     \n",
       " \"Swamp\"    \n",
       " \"Mosquitos\""
      ]
     },
     "execution_count": 3,
     "metadata": {},
     "output_type": "execute_result"
    }
   ],
   "source": [
    "elements = [\"Water\",\"Wood\",\"Swamp\", \"Mosquitos\"]"
   ]
  },
  {
   "cell_type": "code",
   "execution_count": 4,
   "metadata": {
    "collapsed": false
   },
   "outputs": [
    {
     "data": {
      "text/plain": [
       "Dict{ASCIIString,Int64} with 4 entries:\n",
       "  \"Water\"     => 3\n",
       "  \"Swamp\"     => -2\n",
       "  \"Wood\"      => 2\n",
       "  \"Mosquitos\" => -3"
      ]
     },
     "execution_count": 4,
     "metadata": {},
     "output_type": "execute_result"
    }
   ],
   "source": [
    "CostAt = [\"Water\"=> 3, \"Wood\"=> 2,  \"Swamp\" => -2 , \"Mosquitos\"=>-3]"
   ]
  },
  {
   "cell_type": "code",
   "execution_count": 5,
   "metadata": {
    "collapsed": false
   },
   "outputs": [
    {
     "data": {
      "text/plain": [
       "Dict{ASCIIString,Int64} with 4 entries:\n",
       "  \"Water\"     => 1\n",
       "  \"Swamp\"     => -2\n",
       "  \"Wood\"      => 1\n",
       "  \"Mosquitos\" => -2"
      ]
     },
     "execution_count": 5,
     "metadata": {},
     "output_type": "execute_result"
    }
   ],
   "source": [
    "CostNear = [\"Water\"=> 1, \"Wood\"=> 1, \"Swamp\" => -2,\"Mosquitos\"=>-2, ]"
   ]
  },
  {
   "cell_type": "code",
   "execution_count": 6,
   "metadata": {
    "collapsed": false
   },
   "outputs": [
    {
     "data": {
      "text/latex": [
       "$$ score_{i,j} free \\quad\\forall i \\in \\{1,2,\\dots,7,8\\}, j \\in \\{1,2,\\dots,7,8\\} $$"
      ],
      "text/plain": [
       "score[i,j] free for all i in {1,2..7,8}, j in {1,2..7,8}"
      ]
     },
     "execution_count": 6,
     "metadata": {},
     "output_type": "execute_result"
    }
   ],
   "source": [
    "#MODEL CONSTRUCTION\n",
    "#--------------------\n",
    "m = Model(solver=GLPKSolverLP()) \n",
    "\n",
    "\n",
    "#define initial variables\n",
    "@defVar(m, quality[elements,1:8,1:8] )\n",
    "\n",
    "@defVar(m, score[1:8,1:8] )\n",
    "\n",
    "       \n",
    "\n",
    "# @defVar(m, qWater[1:8,1:8] >= 0)\n",
    "# @defVar(m, qWood[1:8,1:8] >= 0)\n",
    "# @defVar(m, qSwamp[1:8,1:8] >= 0)\n",
    "# @defVar(m, qMosquitos[1:8,1:8] >= 0)"
   ]
  },
  {
   "cell_type": "code",
   "execution_count": 7,
   "metadata": {
    "collapsed": false
   },
   "outputs": [],
   "source": [
    "#define quality constraint\n",
    "for i = 1:8\n",
    "    for j = 1:8\n",
    "        for ki in [0,1, -1]\n",
    "            for kj in [0,1,-1]\n",
    "                if i + ki >= 1 && i + ki <= 8 && j + kj >= 1 && j+kj <= 8\n",
    "                    for e in elements\n",
    "                        if kj == 0 && ki == 0\n",
    "                            if e == \"Water\"\n",
    "                                @addConstraint(m, quality[e,i,j] >= Water[i + ki, j + kj] * CostAt[\"Water\"]) \n",
    "                            elseif e == \"Wood\"\n",
    "                                @addConstraint(m, quality[e,i,j] >= Wood[i + ki, j + kj] * CostAt[\"Wood\"])\n",
    "                            elseif e == \"Swamp\"\n",
    "                                @addConstraint(m, quality[e,i,j] <= Swamp[i + ki, j + kj] * CostAt[\"Swamp\"])\n",
    "                            elseif e == \"Mosquitos\"\n",
    "                                @addConstraint(m, quality[e,i,j] <= Mosquitos[i + ki, j + kj] * CostAt[\"Mosquitos\"])\n",
    "                            end\n",
    "                        else\n",
    "                            if e == \"Water\"\n",
    "                                @addConstraint(m, quality[e,i,j] >= Water[i + ki, j + kj] * CostNear[\"Water\"]) \n",
    "                            elseif e == \"Wood\"\n",
    "                                @addConstraint(m, quality[e,i,j] >= Wood[i + ki, j + kj] * CostNear[\"Wood\"])\n",
    "                            elseif e == \"Swamp\"\n",
    "                                @addConstraint(m, quality[e,i,j] <= Swamp[i + ki, j + kj] * CostNear[\"Swamp\"])\n",
    "                            elseif e == \"Mosquitos\"\n",
    "                                @addConstraint(m, quality[e,i,j] <= Mosquitos[i + ki, j + kj] * CostNear[\"Mosquitos\"])\n",
    "                            end\n",
    "                        end\n",
    "                    end\n",
    "                end\n",
    "            end\n",
    "        end\n",
    "    end\n",
    "end\n",
    "\n",
    "\n",
    "    "
   ]
  },
  {
   "cell_type": "code",
   "execution_count": 8,
   "metadata": {
    "collapsed": false
   },
   "outputs": [],
   "source": [
    "\n",
    "for i in 1:8\n",
    "    for j in 1:8\n",
    "        @addConstraint(m, score[i,j] ==  sum{quality[e,i,j] , e in [\"Water\",\"Wood\"]} \n",
    "                                          -sum{quality[e,i,j] , e in [\"Swamp\",\"Mosquitos\"]}\n",
    "        )\n",
    "\n",
    "    end\n",
    "end\n",
    "        \n",
    "        \n",
    "            "
   ]
  },
  {
   "cell_type": "code",
   "execution_count": 9,
   "metadata": {
    "collapsed": false
   },
   "outputs": [
    {
     "data": {
      "text/latex": [
       "$$ score_{1,1} + score_{1,2} + score_{1,3} + score_{1,4} + score_{1,5} + score_{1,6} + score_{1,7} + score_{1,8} + score_{2,1} + score_{2,2} + score_{2,3} + score_{2,4} + score_{2,5} + score_{2,6} + score_{2,7} + score_{2,8} + score_{3,1} + score_{3,2} + score_{3,3} + score_{3,4} + score_{3,5} + score_{3,6} + score_{3,7} + score_{3,8} + score_{4,1} + score_{4,2} + score_{4,3} + score_{4,4} + score_{4,5} + score_{4,6} + score_{4,7} + score_{4,8} + score_{5,1} + score_{5,2} + score_{5,3} + score_{5,4} + score_{5,5} + score_{5,6} + score_{5,7} + score_{5,8} + score_{6,1} + score_{6,2} + score_{6,3} + score_{6,4} + score_{6,5} + score_{6,6} + score_{6,7} + score_{6,8} + score_{7,1} + score_{7,2} + score_{7,3} + score_{7,4} + score_{7,5} + score_{7,6} + score_{7,7} + score_{7,8} + score_{8,1} + score_{8,2} + score_{8,3} + score_{8,4} + score_{8,5} + score_{8,6} + score_{8,7} + score_{8,8} $$"
      ],
      "text/plain": [
       "score[1,1] + score[1,2] + score[1,3] + score[1,4] + score[1,5] + score[1,6] + score[1,7] + score[1,8] + score[2,1] + score[2,2] + score[2,3] + score[2,4] + score[2,5] + score[2,6] + score[2,7] + score[2,8] + score[3,1] + score[3,2] + score[3,3] + score[3,4] + score[3,5] + score[3,6] + score[3,7] + score[3,8] + score[4,1] + score[4,2] + score[4,3] + score[4,4] + score[4,5] + score[4,6] + score[4,7] + score[4,8] + score[5,1] + score[5,2] + score[5,3] + score[5,4] + score[5,5] + score[5,6] + score[5,7] + score[5,8] + score[6,1] + score[6,2] + score[6,3] + score[6,4] + score[6,5] + score[6,6] + score[6,7] + score[6,8] + score[7,1] + score[7,2] + score[7,3] + score[7,4] + score[7,5] + score[7,6] + score[7,7] + score[7,8] + score[8,1] + score[8,2] + score[8,3] + score[8,4] + score[8,5] + score[8,6] + score[8,7] + score[8,8]"
      ]
     },
     "execution_count": 9,
     "metadata": {},
     "output_type": "execute_result"
    }
   ],
   "source": [
    "#define objective\n",
    "@setObjective(m, Min, sum{score[i,j], i=1:8, j=1:8})"
   ]
  },
  {
   "cell_type": "code",
   "execution_count": 10,
   "metadata": {
    "collapsed": false
   },
   "outputs": [],
   "source": [
    "#print(m)"
   ]
  },
  {
   "cell_type": "code",
   "execution_count": 11,
   "metadata": {
    "collapsed": false
   },
   "outputs": [
    {
     "data": {
      "text/plain": [
       ":Optimal"
      ]
     },
     "execution_count": 11,
     "metadata": {},
     "output_type": "execute_result"
    }
   ],
   "source": [
    "#print(m)\n",
    "\n",
    "status = solve(m)\n",
    "\n"
   ]
  },
  {
   "cell_type": "code",
   "execution_count": 12,
   "metadata": {
    "collapsed": false
   },
   "outputs": [],
   "source": [
    "# println(\"Objective value: \", getObjectiveValue(m))\n",
    "# solution_score= zeros(8,8)\n",
    "# for i in 1:8\n",
    "#     for j in 1:8\n",
    "#         print( getValue(score[i,j]))\n",
    "#         print(\"\\t\")\n",
    "        \n",
    "#         solution_score[i,j] = getValue(score[i,j])\n",
    "#     end\n",
    "#     println()\n",
    "# end\n",
    "\n",
    "#print(indmax(solution_score))\n",
    "#print(findmax(solution_score))\n"
   ]
  },
  {
   "cell_type": "code",
   "execution_count": null,
   "metadata": {
    "collapsed": false
   },
   "outputs": [],
   "source": [
    "\n"
   ]
  },
  {
   "cell_type": "code",
   "execution_count": 13,
   "metadata": {
    "collapsed": false
   },
   "outputs": [
    {
     "name": "stdout",
     "output_type": "stream",
     "text": [
      "1.0\t-1.0\t-4.0\t-1.0\t-1.0\t-2.0\t-1.0\t0.0\t\n",
      "-2.0\t-3.0\t-3.0\t-3.0\t-1.0\t-2.0\t-3.0\t-3.0\t\n",
      "-3.0\t-2.0\t-3.0\t-2.0\t-1.0\t2.0\t-1.0\t-2.0\t\n",
      "-3.0\t0.0\t-1.0\t-2.0\t3.0\t0.0\t0.0\t-2.0\t\n",
      "-3.0\t-2.0\t-1.0\t0.0\t2.0\t-2.0\t-2.0\t-1.0\t\n",
      "0.0\t0.0\t-2.0\t0.0\t1.0\t-2.0\t0.0\t-1.0\t\n",
      "-3.0\t-4.0\t-3.0\t1.0\t1.0\t0.0\t-2.0\t-2.0\t\n",
      "-4.0\t-4.0\t-3.0\t-1.0\t-1.0\t-3.0\t-4.0\t-2.0\t\n",
      "best campsite is at 4, 5"
     ]
    }
   ],
   "source": [
    "max_x = 1\n",
    "max_y = 1\n",
    "maxval = 0\n",
    "sumquality = zeros(8,8)\n",
    "for i in 1:8\n",
    "    for j in 1:8\n",
    "\n",
    "        for e in elements\n",
    "            sumquality[i,j] += getValue(quality[e,i,j])\n",
    "        end\n",
    "        print(sumquality[i,j])\n",
    "        print(\"\\t\")\n",
    "        if maxval <= sumquality[i,j]\n",
    "            max_x = i\n",
    "            max_y = j\n",
    "            maxval = sumquality[i,j]\n",
    "        end\n",
    "    end\n",
    "    println()\n",
    "end\n",
    "\n",
    "print(\"best campsite is at $(max_x), $(max_y)\")"
   ]
  },
  {
   "cell_type": "code",
   "execution_count": null,
   "metadata": {
    "collapsed": true
   },
   "outputs": [],
   "source": []
  },
  {
   "cell_type": "code",
   "execution_count": null,
   "metadata": {
    "collapsed": true
   },
   "outputs": [],
   "source": []
  },
  {
   "cell_type": "code",
   "execution_count": null,
   "metadata": {
    "collapsed": true
   },
   "outputs": [],
   "source": []
  }
 ],
 "metadata": {
  "kernelspec": {
   "display_name": "Julia 0.3.9",
   "language": "julia",
   "name": "julia-0.3"
  },
  "language_info": {
   "name": "julia",
   "version": "0.3.9"
  }
 },
 "nbformat": 4,
 "nbformat_minor": 0
}
